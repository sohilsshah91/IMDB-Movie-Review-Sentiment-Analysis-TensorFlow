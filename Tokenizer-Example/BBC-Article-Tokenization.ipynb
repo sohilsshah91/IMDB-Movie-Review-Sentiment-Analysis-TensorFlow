{
  "nbformat": 4,
  "nbformat_minor": 0,
  "metadata": {
    "colab": {
      "name": "Untitled0.ipynb",
      "provenance": [],
      "authorship_tag": "ABX9TyM+wGhe4Tk0OnIWCRnh5GJX",
      "include_colab_link": true
    },
    "kernelspec": {
      "name": "python3",
      "display_name": "Python 3"
    }
  },
  "cells": [
    {
      "cell_type": "markdown",
      "metadata": {
        "id": "view-in-github",
        "colab_type": "text"
      },
      "source": [
        "<a href=\"https://colab.research.google.com/github/sohilsshah91/Natural-Language-Processing-TensorFlow/blob/master/Tokenizer-Example/BBC-Article-Tokenization.ipynb\" target=\"_parent\"><img src=\"https://colab.research.google.com/assets/colab-badge.svg\" alt=\"Open In Colab\"/></a>"
      ]
    },
    {
      "cell_type": "code",
      "metadata": {
        "id": "R8lx3sJWAp5o",
        "colab_type": "code",
        "colab": {}
      },
      "source": [
        "#@title Licensed under the Apache License, Version 2.0 (the \"License\");\n",
        "# you may not use this file except in compliance with the License.\n",
        "# You may obtain a copy of the License at\n",
        "#\n",
        "# https://www.apache.org/licenses/LICENSE-2.0\n",
        "#\n",
        "# Unless required by applicable law or agreed to in writing, software\n",
        "# distributed under the License is distributed on an \"AS IS\" BASIS,\n",
        "# WITHOUT WARRANTIES OR CONDITIONS OF ANY KIND, either express or implied.\n",
        "# See the License for the specific language governing permissions and\n",
        "# limitations under the License."
      ],
      "execution_count": 0,
      "outputs": []
    },
    {
      "cell_type": "markdown",
      "metadata": {
        "id": "4eVXfL7JDzN6",
        "colab_type": "text"
      },
      "source": [
        "# Ingest Data & Import Libraries"
      ]
    },
    {
      "cell_type": "code",
      "metadata": {
        "id": "MzgzNUjzCz3b",
        "colab_type": "code",
        "colab": {
          "base_uri": "https://localhost:8080/",
          "height": 208
        },
        "outputId": "7bf5d04e-7a1c-4834-d0f3-4aff67630bff"
      },
      "source": [
        "!wget --no-check-certificate \\\n",
        "https://storage.googleapis.com/dataset-uploader/bbc/bbc-text.csv -O /tmp/bbc-text.csv\n",
        "\n",
        "import csv\n",
        "from tensorflow.keras.preprocessing.text import Tokenizer\n",
        "from tensorflow.keras.preprocessing.sequence import pad_sequences\n",
        "\n",
        "#Stopwords list from https://github.com/Yoast/YoastSEO.js/blob/develop/src/config/stopwords.js\n",
        "# Convert it to a Python list and paste it here\n",
        "stopwords = [ \"a\", \"about\", \"above\", \"after\", \"again\", \"against\", \"all\", \"am\", \"an\", \"and\", \"any\", \"are\", \"as\", \"at\", \"be\", \"because\", \"been\", \"before\", \"being\", \"below\", \"between\", \"both\", \"but\", \"by\", \"could\", \"did\", \"do\", \"does\", \"doing\", \"down\", \"during\", \"each\", \"few\", \"for\", \"from\", \"further\", \"had\", \"has\", \"have\", \"having\", \"he\", \"he'd\", \"he'll\", \"he's\", \"her\", \"here\", \"here's\", \"hers\", \"herself\", \"him\", \"himself\", \"his\", \"how\", \"how's\", \"i\", \"i'd\", \"i'll\", \"i'm\", \"i've\", \"if\", \"in\", \"into\", \"is\", \"it\", \"it's\", \"its\", \"itself\", \"let's\", \"me\", \"more\", \"most\", \"my\", \"myself\", \"nor\", \"of\", \"on\", \"once\", \"only\", \"or\", \"other\", \"ought\", \"our\", \"ours\", \"ourselves\", \"out\", \"over\", \"own\", \"same\", \"she\", \"she'd\", \"she'll\", \"she's\", \"should\", \"so\", \"some\", \"such\", \"than\", \"that\", \"that's\", \"the\", \"their\", \"theirs\", \"them\", \"themselves\", \"then\", \"there\", \"there's\", \"these\", \"they\", \"they'd\", \"they'll\", \"they're\", \"they've\", \"this\", \"those\", \"through\", \"to\", \"too\", \"under\", \"until\", \"up\", \"very\", \"was\", \"we\", \"we'd\", \"we'll\", \"we're\", \"we've\", \"were\", \"what\", \"what's\", \"when\", \"when's\", \"where\", \"where's\", \"which\", \"while\", \"who\", \"who's\", \"whom\", \"why\", \"why's\", \"with\", \"would\", \"you\", \"you'd\", \"you'll\", \"you're\", \"you've\", \"your\", \"yours\", \"yourself\", \"yourselves\"]"
      ],
      "execution_count": 4,
      "outputs": [
        {
          "output_type": "stream",
          "text": [
            "--2020-04-10 03:13:22--  https://storage.googleapis.com/dataset-uploader/bbc/bbc-text.csv\n",
            "Resolving storage.googleapis.com (storage.googleapis.com)... 74.125.203.128, 2404:6800:4008:c07::80\n",
            "Connecting to storage.googleapis.com (storage.googleapis.com)|74.125.203.128|:443... connected.\n",
            "HTTP request sent, awaiting response... 200 OK\n",
            "Length: 5057493 (4.8M) [text/csv]\n",
            "Saving to: ‘/tmp/bbc-text.csv’\n",
            "\n",
            "/tmp/bbc-text.csv   100%[===================>]   4.82M  --.-KB/s    in 0.03s   \n",
            "\n",
            "2020-04-10 03:13:23 (142 MB/s) - ‘/tmp/bbc-text.csv’ saved [5057493/5057493]\n",
            "\n"
          ],
          "name": "stdout"
        }
      ]
    },
    {
      "cell_type": "markdown",
      "metadata": {
        "id": "_F1RBgHWDwrO",
        "colab_type": "text"
      },
      "source": [
        "# Read Data Into Lists of Sentences & Labels"
      ]
    },
    {
      "cell_type": "code",
      "metadata": {
        "id": "R1JOLsvqFXzm",
        "colab_type": "code",
        "colab": {
          "base_uri": "https://localhost:8080/",
          "height": 72
        },
        "outputId": "8aa2eb00-0e6f-409e-b4a4-32c75abf4e10"
      },
      "source": [
        "sentences = []\n",
        "labels = []\n",
        "with open(\"/tmp/bbc-text.csv\", 'r') as csvfile:\n",
        "  reader = csv.reader(csvfile)\n",
        "  header = next(reader) # header line needs to be elminated and hence the next pointer for next row\n",
        "  for row in reader:\n",
        "    labels.append(row[0])\n",
        "    sentences.append(row[1])\n",
        "\n",
        "print(len(sentences))\n",
        "print(sentences[0])"
      ],
      "execution_count": 5,
      "outputs": [
        {
          "output_type": "stream",
          "text": [
            "2225\n",
            "tv future in the hands of viewers with home theatre systems  plasma high-definition tvs  and digital video recorders moving into the living room  the way people watch tv will be radically different in five years  time.  that is according to an expert panel which gathered at the annual consumer electronics show in las vegas to discuss how these new technologies will impact one of our favourite pastimes. with the us leading the trend  programmes and other content will be delivered to viewers via home networks  through cable  satellite  telecoms companies  and broadband service providers to front rooms and portable devices.  one of the most talked-about technologies of ces has been digital and personal video recorders (dvr and pvr). these set-top boxes  like the us s tivo and the uk s sky+ system  allow people to record  store  play  pause and forward wind tv programmes when they want.  essentially  the technology allows for much more personalised tv. they are also being built-in to high-definition tv sets  which are big business in japan and the us  but slower to take off in europe because of the lack of high-definition programming. not only can people forward wind through adverts  they can also forget about abiding by network and channel schedules  putting together their own a-la-carte entertainment. but some us networks and cable and satellite companies are worried about what it means for them in terms of advertising revenues as well as  brand identity  and viewer loyalty to channels. although the us leads in this technology at the moment  it is also a concern that is being raised in europe  particularly with the growing uptake of services like sky+.  what happens here today  we will see in nine months to a years  time in the uk   adam hume  the bbc broadcast s futurologist told the bbc news website. for the likes of the bbc  there are no issues of lost advertising revenue yet. it is a more pressing issue at the moment for commercial uk broadcasters  but brand loyalty is important for everyone.  we will be talking more about content brands rather than network brands   said tim hanlon  from brand communications firm starcom mediavest.  the reality is that with broadband connections  anybody can be the producer of content.  he added:  the challenge now is that it is hard to promote a programme with so much choice.   what this means  said stacey jolna  senior vice president of tv guide tv group  is that the way people find the content they want to watch has to be simplified for tv viewers. it means that networks  in us terms  or channels could take a leaf out of google s book and be the search engine of the future  instead of the scheduler to help people find what they want to watch. this kind of channel model might work for the younger ipod generation which is used to taking control of their gadgets and what they play on them. but it might not suit everyone  the panel recognised. older generations are more comfortable with familiar schedules and channel brands because they know what they are getting. they perhaps do not want so much of the choice put into their hands  mr hanlon suggested.  on the other end  you have the kids just out of diapers who are pushing buttons already - everything is possible and available to them   said mr hanlon.  ultimately  the consumer will tell the market they want.   of the 50 000 new gadgets and technologies being showcased at ces  many of them are about enhancing the tv-watching experience. high-definition tv sets are everywhere and many new models of lcd (liquid crystal display) tvs have been launched with dvr capability built into them  instead of being external boxes. one such example launched at the show is humax s 26-inch lcd tv with an 80-hour tivo dvr and dvd recorder. one of the us s biggest satellite tv companies  directtv  has even launched its own branded dvr at the show with 100-hours of recording capability  instant replay  and a search function. the set can pause and rewind tv for up to 90 hours. and microsoft chief bill gates announced in his pre-show keynote speech a partnership with tivo  called tivotogo  which means people can play recorded programmes on windows pcs and mobile devices. all these reflect the increasing trend of freeing up multimedia so that people can watch what they want  when they want.\n"
          ],
          "name": "stdout"
        }
      ]
    },
    {
      "cell_type": "markdown",
      "metadata": {
        "id": "2qEOOPEVFpwx",
        "colab_type": "text"
      },
      "source": [
        "# Tokenize Sentence Corpus & Develop Word Index\n",
        "\n",
        "Tokenization is a process in which we associate a word by a number (also called word index) and store it in the form of {key : value} pair. "
      ]
    },
    {
      "cell_type": "code",
      "metadata": {
        "id": "29dTvWveFkqe",
        "colab_type": "code",
        "colab": {
          "base_uri": "https://localhost:8080/",
          "height": 35
        },
        "outputId": "c8be7ca1-305f-4ade-ef7b-0227420024aa"
      },
      "source": [
        "tokenizer = Tokenizer(oov_token=\"<OOV>\")\n",
        "tokenizer.fit_on_texts(sentences)\n",
        "word_index = tokenizer.word_index\n",
        "print(len(word_index))"
      ],
      "execution_count": 6,
      "outputs": [
        {
          "output_type": "stream",
          "text": [
            "29727\n"
          ],
          "name": "stdout"
        }
      ]
    },
    {
      "cell_type": "markdown",
      "metadata": {
        "id": "I37f2exzGFtf",
        "colab_type": "text"
      },
      "source": [
        "# Convert Sentences into Sequence of Tokens & Pad for Uniformity"
      ]
    },
    {
      "cell_type": "code",
      "metadata": {
        "id": "A9ydqyIZF_d_",
        "colab_type": "code",
        "colab": {
          "base_uri": "https://localhost:8080/",
          "height": 52
        },
        "outputId": "31fc29cc-d775-4c06-a75a-a6222be0a181"
      },
      "source": [
        "sequences = tokenizer.texts_to_sequences(sentences)\n",
        "padded = pad_sequences(sequences,padding='post')\n",
        "print(padded[0]) \n",
        "print(padded.shape)"
      ],
      "execution_count": 7,
      "outputs": [
        {
          "output_type": "stream",
          "text": [
            "[177 265   7 ...   0   0   0]\n",
            "(2225, 4491)\n"
          ],
          "name": "stdout"
        }
      ]
    },
    {
      "cell_type": "markdown",
      "metadata": {
        "id": "oCwIKAsLGpa7",
        "colab_type": "text"
      },
      "source": [
        "# Label Tokenization & Develop Label Word Index  \n",
        "\n",
        "oov_token is utilised to associate Out of Vocabulary tokens or new tokens with 1 number. In the label tokenizer below OOV is indexed 1,"
      ]
    },
    {
      "cell_type": "code",
      "metadata": {
        "id": "iTJndvHKGeSR",
        "colab_type": "code",
        "colab": {
          "base_uri": "https://localhost:8080/",
          "height": 72
        },
        "outputId": "a5a447a8-6676-41af-db7b-5eacf83701ba"
      },
      "source": [
        "label_tokenizer = Tokenizer(oov_token=\"<OOV>\")\n",
        "label_tokenizer.fit_on_texts(labels)\n",
        "label_seq = label_tokenizer.texts_to_sequences(labels)\n",
        "label_word_index = label_tokenizer.word_index\n",
        "print(label_seq)\n",
        "print(label_word_index)"
      ],
      "execution_count": 8,
      "outputs": [
        {
          "output_type": "stream",
          "text": [
            "[[5], [3], [2], [2], [6], [4], [4], [2], [2], [6], [6], [3], [3], [4], [2], [3], [4], [2], [3], [5], [5], [5], [2], [2], [5], [2], [6], [5], [4], [6], [4], [5], [6], [6], [3], [4], [5], [6], [4], [3], [4], [2], [3], [2], [5], [6], [4], [4], [4], [3], [2], [4], [3], [3], [2], [4], [3], [2], [2], [3], [3], [2], [3], [2], [3], [5], [3], [6], [5], [3], [4], [3], [4], [2], [3], [5], [3], [2], [2], [3], [3], [2], [4], [3], [6], [4], [4], [3], [6], [3], [2], [2], [4], [2], [4], [2], [3], [2], [3], [6], [6], [2], [3], [4], [4], [5], [2], [6], [2], [5], [3], [6], [2], [6], [2], [6], [6], [4], [2], [2], [6], [4], [3], [5], [3], [3], [5], [2], [4], [2], [5], [6], [2], [3], [3], [5], [6], [5], [2], [3], [3], [3], [5], [2], [5], [3], [2], [6], [2], [5], [2], [5], [4], [3], [5], [6], [2], [3], [4], [3], [6], [4], [4], [6], [4], [3], [6], [4], [4], [6], [4], [2], [3], [4], [4], [3], [6], [2], [3], [3], [2], [5], [2], [5], [5], [2], [3], [2], [4], [6], [4], [3], [4], [3], [5], [4], [6], [4], [5], [3], [2], [3], [2], [5], [6], [3], [4], [4], [6], [2], [6], [4], [2], [6], [2], [2], [6], [2], [4], [4], [6], [5], [2], [4], [3], [6], [5], [2], [5], [2], [6], [4], [2], [6], [5], [3], [5], [3], [3], [5], [3], [2], [3], [2], [3], [2], [6], [3], [3], [6], [2], [2], [4], [5], [4], [4], [4], [5], [2], [5], [4], [3], [5], [6], [5], [2], [2], [3], [3], [4], [3], [5], [2], [6], [2], [4], [5], [6], [3], [2], [6], [2], [5], [4], [5], [3], [3], [4], [4], [2], [3], [5], [6], [4], [5], [3], [6], [2], [6], [2], [6], [4], [3], [2], [3], [2], [2], [6], [2], [4], [4], [3], [6], [5], [3], [2], [3], [6], [3], [3], [3], [4], [3], [4], [6], [6], [3], [2], [3], [4], [3], [5], [6], [3], [2], [2], [6], [3], [3], [4], [5], [6], [5], [4], [3], [2], [4], [3], [6], [5], [6], [5], [4], [2], [6], [3], [4], [3], [3], [4], [2], [5], [3], [3], [6], [6], [5], [2], [3], [6], [5], [5], [6], [6], [6], [4], [2], [4], [5], [3], [6], [4], [3], [6], [4], [4], [2], [2], [3], [4], [6], [3], [2], [3], [3], [2], [3], [4], [4], [4], [2], [5], [5], [3], [5], [2], [6], [3], [4], [3], [6], [3], [4], [6], [4], [3], [5], [3], [2], [2], [3], [2], [2], [6], [2], [2], [2], [5], [3], [3], [3], [4], [2], [2], [3], [5], [3], [4], [2], [4], [5], [3], [2], [6], [3], [4], [5], [3], [2], [3], [4], [3], [3], [2], [6], [5], [4], [5], [3], [2], [3], [6], [5], [5], [3], [2], [2], [6], [4], [4], [4], [2], [4], [5], [5], [6], [4], [5], [6], [3], [2], [2], [5], [3], [2], [2], [4], [2], [2], [3], [2], [6], [5], [4], [2], [4], [5], [3], [3], [3], [5], [3], [3], [2], [2], [2], [2], [3], [5], [6], [2], [2], [5], [3], [5], [6], [4], [2], [3], [4], [3], [5], [5], [4], [5], [3], [2], [3], [6], [2], [4], [6], [2], [2], [4], [5], [6], [5], [2], [4], [3], [6], [4], [3], [6], [2], [2], [5], [4], [6], [4], [6], [4], [5], [4], [6], [2], [3], [2], [6], [2], [6], [5], [3], [2], [4], [6], [4], [6], [6], [6], [4], [6], [5], [4], [5], [5], [2], [2], [5], [5], [2], [6], [6], [2], [5], [6], [2], [2], [5], [3], [4], [5], [3], [2], [6], [2], [6], [4], [5], [6], [6], [3], [6], [6], [2], [5], [5], [4], [2], [5], [2], [4], [4], [6], [5], [3], [5], [5], [5], [3], [4], [4], [2], [5], [3], [3], [6], [6], [2], [5], [3], [5], [6], [2], [5], [4], [5], [4], [3], [4], [4], [3], [2], [5], [2], [5], [4], [6], [5], [2], [6], [5], [2], [4], [6], [2], [5], [2], [2], [4], [6], [3], [4], [6], [3], [3], [5], [3], [6], [5], [2], [5], [4], [5], [4], [3], [4], [6], [2], [3], [3], [3], [6], [2], [3], [6], [6], [2], [6], [4], [4], [4], [2], [2], [2], [5], [4], [2], [4], [4], [5], [4], [2], [3], [6], [2], [3], [3], [5], [3], [6], [6], [6], [3], [6], [6], [4], [5], [3], [2], [5], [2], [2], [4], [3], [2], [5], [3], [2], [5], [2], [2], [6], [2], [3], [2], [3], [5], [4], [5], [3], [2], [2], [3], [3], [3], [3], [4], [2], [3], [5], [3], [2], [4], [3], [5], [3], [2], [3], [4], [6], [2], [3], [4], [3], [6], [3], [3], [3], [2], [4], [6], [2], [4], [2], [4], [4], [3], [3], [2], [5], [6], [2], [6], [3], [3], [3], [5], [2], [5], [4], [5], [5], [5], [2], [5], [5], [6], [6], [5], [2], [6], [5], [2], [2], [3], [6], [5], [3], [2], [3], [4], [3], [6], [5], [3], [4], [3], [5], [2], [3], [6], [3], [4], [2], [6], [4], [2], [3], [2], [4], [4], [2], [6], [6], [3], [3], [2], [5], [5], [2], [6], [5], [5], [3], [2], [6], [5], [2], [2], [3], [6], [3], [3], [3], [6], [2], [6], [5], [5], [5], [4], [5], [5], [6], [6], [2], [2], [4], [3], [6], [2], [4], [6], [5], [4], [5], [5], [3], [6], [4], [5], [4], [4], [2], [4], [4], [6], [5], [2], [4], [2], [6], [4], [3], [3], [4], [2], [2], [2], [6], [5], [5], [3], [6], [2], [4], [5], [4], [6], [5], [5], [3], [3], [2], [3], [3], [5], [4], [6], [3], [3], [3], [3], [3], [5], [2], [4], [5], [5], [3], [3], [6], [4], [6], [2], [5], [2], [6], [2], [5], [2], [3], [2], [4], [4], [6], [3], [2], [4], [4], [2], [6], [4], [3], [5], [2], [3], [3], [3], [6], [6], [5], [5], [3], [3], [6], [2], [3], [6], [5], [5], [3], [3], [2], [2], [2], [4], [4], [2], [4], [2], [3], [6], [2], [5], [6], [2], [2], [3], [3], [5], [5], [2], [6], [2], [6], [2], [6], [4], [6], [6], [5], [6], [3], [3], [4], [2], [4], [5], [3], [4], [2], [4], [2], [6], [2], [4], [2], [2], [5], [6], [2], [4], [2], [2], [3], [5], [6], [4], [5], [6], [4], [6], [4], [6], [6], [5], [6], [4], [6], [6], [5], [5], [2], [2], [6], [6], [5], [6], [4], [5], [6], [3], [5], [2], [3], [6], [6], [5], [6], [5], [3], [6], [2], [6], [3], [2], [3], [2], [4], [5], [6], [4], [3], [6], [6], [4], [3], [6], [2], [4], [2], [3], [3], [3], [3], [3], [6], [5], [2], [6], [6], [3], [2], [5], [5], [6], [2], [3], [4], [3], [4], [3], [3], [6], [4], [3], [3], [5], [4], [2], [5], [6], [4], [3], [3], [2], [6], [4], [5], [3], [3], [4], [3], [2], [6], [2], [6], [5], [4], [3], [3], [5], [3], [3], [2], [3], [5], [6], [4], [3], [4], [3], [2], [5], [3], [4], [6], [5], [3], [6], [2], [4], [4], [2], [4], [3], [5], [6], [2], [2], [5], [3], [2], [6], [5], [2], [4], [2], [3], [3], [3], [4], [6], [2], [4], [5], [3], [3], [5], [6], [6], [5], [5], [2], [2], [6], [5], [6], [2], [4], [5], [3], [2], [6], [3], [3], [6], [2], [3], [2], [5], [4], [4], [5], [6], [4], [6], [3], [3], [4], [2], [5], [2], [2], [2], [4], [3], [2], [3], [5], [2], [3], [3], [2], [4], [5], [2], [3], [5], [2], [2], [3], [3], [3], [3], [4], [6], [5], [3], [3], [2], [3], [6], [3], [6], [2], [4], [3], [3], [5], [6], [3], [3], [3], [4], [3], [4], [5], [6], [4], [6], [2], [5], [4], [3], [5], [2], [3], [3], [6], [5], [3], [3], [2], [2], [6], [2], [4], [2], [3], [2], [3], [4], [4], [3], [4], [5], [6], [2], [3], [6], [2], [4], [4], [5], [6], [3], [4], [4], [2], [5], [3], [2], [6], [2], [6], [2], [3], [2], [4], [6], [5], [3], [2], [4], [5], [2], [6], [3], [2], [6], [2], [5], [2], [5], [4], [2], [3], [6], [5], [5], [4], [5], [6], [5], [2], [3], [5], [3], [6], [2], [5], [4], [4], [4], [4], [6], [6], [6], [3], [4], [4], [2], [2], [5], [2], [4], [3], [3], [5], [2], [5], [3], [5], [4], [4], [2], [3], [4], [2], [3], [5], [3], [3], [6], [6], [2], [3], [5], [5], [4], [3], [4], [2], [6], [6], [4], [4], [3], [3], [5], [5], [2], [2], [4], [5], [2], [5], [3], [2], [3], [4], [2], [6], [3], [5], [4], [6], [5], [3], [2], [6], [5], [5], [6], [4], [5], [6], [2], [6], [2], [2], [2], [4], [5], [2], [3], [2], [2], [3], [5], [2], [3], [6], [4], [5], [2], [4], [5], [6], [4], [2], [4], [5], [3], [6], [2], [4], [3], [5], [5], [5], [4], [3], [2], [4], [6], [5], [6], [2], [5], [3], [4], [6], [5], [4], [2], [2], [3], [6], [3], [3], [4], [3], [3], [4], [5], [6], [4], [6], [6], [3], [4], [2], [4], [6], [2], [6], [4], [6], [6], [6], [3], [2], [4], [2], [6], [5], [5], [3], [4], [6], [3], [2], [3], [4], [4], [3], [2], [5], [5], [5], [3], [4], [4], [3], [2], [2], [6], [3], [2], [2], [4], [4], [4], [6], [4], [3], [5], [3], [4], [6], [6], [3], [2], [4], [6], [2], [6], [4], [4], [3], [4], [2], [6], [6], [5], [5], [5], [5], [4], [5], [3], [5], [2], [2], [6], [3], [5], [6], [3], [5], [2], [5], [6], [6], [4], [4], [2], [3], [3], [5], [6], [2], [4], [3], [5], [6], [4], [2], [6], [4], [4], [5], [2], [4], [3], [4], [6], [5], [2], [4], [6], [6], [3], [2], [5], [5], [2], [6], [5], [4], [5], [2], [4], [4], [2], [6], [2], [4], [2], [5], [6], [2], [6], [3], [3], [6], [6], [6], [5], [2], [3], [3], [4], [4], [3], [4], [6], [2], [2], [5], [4], [2], [3], [2], [3], [5], [2], [2], [3], [6], [2], [2], [5], [2], [3], [4], [3], [6], [5], [6], [4], [3], [6], [4], [6], [4], [4], [3], [2], [2], [2], [5], [5], [2], [4], [6], [5], [2], [6], [3], [6], [4], [3], [2], [5], [3], [2], [4], [3], [6], [6], [6], [4], [6], [4], [6], [2], [6], [2], [4], [4], [3], [4], [5], [2], [5], [2], [3], [4], [5], [6], [6], [4], [6], [4], [2], [2], [4], [3], [5], [2], [4], [4], [6], [2], [4], [4], [3], [5], [5], [3], [5], [2], [2], [3], [4], [3], [5], [2], [5], [4], [6], [2], [3], [2], [6], [5], [5], [2], [4], [2], [3], [2], [3], [2], [2], [6], [6], [3], [5], [5], [3], [5], [3], [3], [2], [2], [4], [2], [5], [2], [5], [2], [2], [3], [3], [5], [2], [3], [5], [5], [4], [2], [3], [6], [6], [5], [4], [2], [2], [5], [3], [5], [6], [6], [4], [4], [3], [6], [2], [6], [6], [3], [2], [4], [5], [3], [2], [6], [5], [4], [4], [2], [2], [3], [3], [3], [3], [3], [6], [3], [4], [4], [5], [5], [6], [4], [6], [3], [4], [2], [2], [3], [5], [3], [5], [2], [3], [3], [4], [2], [2], [4], [4], [6], [6], [4], [3], [4], [4], [3], [5], [4], [4], [4], [4], [4], [6], [6], [5], [4], [2], [4], [2], [5], [2], [2], [2], [6], [5], [6], [5], [2], [5], [2], [2], [6], [6], [3], [6], [6], [4], [3], [2], [5], [5], [4], [3], [2], [3], [6], [2], [4], [6], [2], [2], [3], [4], [5], [5], [3], [3], [2], [4], [6], [2], [2], [4], [6], [5], [2], [6], [3], [4], [2], [4], [5], [6], [2], [4], [3], [6], [4], [6], [4], [2], [4], [3], [3], [4], [3], [5], [2], [3], [6], [3], [2], [2], [6], [5], [4], [5], [4], [4], [2], [2], [2], [3], [5], [6], [3], [2], [3], [2], [3], [5], [3], [3], [3], [3], [2], [2], [2], [3], [3], [6], [3], [3], [3], [2], [2], [2], [5], [3], [2], [2], [2], [3], [6], [5], [5], [5], [4], [3], [3], [5], [3], [5], [2], [2], [4], [4], [4], [2], [2], [4], [4], [5], [3], [2], [2], [2], [2], [3], [2], [3], [3], [3], [3], [2], [4], [2], [5], [5], [2], [5], [3], [6], [3], [2], [3], [5], [5], [4], [6], [3], [6], [3], [5], [4], [6], [4], [6], [6], [5], [3], [5], [5], [3], [4], [2], [6], [3], [4], [6], [3], [5], [2], [5], [4], [2], [4], [3], [4], [4], [3], [3], [3], [5], [4], [3], [4], [3], [6], [4], [2], [4], [4], [2], [6], [5], [5], [3], [5], [2], [3], [3], [4], [2], [5], [5], [5], [2], [6], [2], [4], [3], [4], [4], [6], [5], [3], [5], [2], [6], [6], [2], [3], [6], [5], [5], [2], [6], [3], [4], [4], [4], [5], [5], [3], [4], [3], [4], [4], [6], [2], [5], [3], [5], [6], [5], [5], [2], [4], [2], [2], [4], [6], [6], [3], [4], [4], [2], [3], [3], [5], [3], [5], [5], [2], [3], [4], [2], [3], [3], [2], [5], [2], [5], [6], [2], [2], [6], [3], [5], [2], [2], [4], [5], [3], [4], [2], [2], [4], [6], [5], [5], [5], [3], [2], [6], [6], [5], [3], [4], [5], [2], [2], [5], [5], [4], [3], [2], [6], [6], [2], [6], [5], [5], [3], [3], [3], [2], [2], [5], [2], [3], [5], [3], [3], [2], [3], [4], [3], [3], [5], [3], [5], [4], [5], [6], [4], [5], [6], [2], [4], [6], [3], [5], [3], [5], [6], [5], [2], [3], [3], [4], [6], [4], [2]]\n",
            "{'<OOV>': 1, 'sport': 2, 'business': 3, 'politics': 4, 'tech': 5, 'entertainment': 6}\n"
          ],
          "name": "stdout"
        }
      ]
    }
  ]
}